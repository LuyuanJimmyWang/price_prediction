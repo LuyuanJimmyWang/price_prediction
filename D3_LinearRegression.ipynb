{
  "nbformat": 4,
  "nbformat_minor": 0,
  "metadata": {
    "colab": {
      "name": "D3_LinearRegression.ipynb",
      "provenance": [],
      "collapsed_sections": [],
      "toc_visible": true
    },
    "kernelspec": {
      "display_name": "Python 3",
      "name": "python3"
    }
  },
  "cells": [
    {
      "cell_type": "markdown",
      "metadata": {
        "id": "h9CyH1kUJh1K"
      },
      "source": [
        "Data Exploration Reference: https://www.kaggle.com/pmarcelino/comprehensive-data-exploration-with-python#COMPREHENSIVE-DATA-EXPLORATION-WITH-PYTHON"
      ]
    },
    {
      "cell_type": "code",
      "metadata": {
        "id": "5Olri6z5Zbuo",
        "outputId": "e6964791-0f09-4a30-d993-6ee664c5b176",
        "colab": {
          "base_uri": "https://localhost:8080/",
          "height": 309
        }
      },
      "source": [
        "import numpy as np\n",
        "import pandas as pd\n",
        "import seaborn as sns\n",
        "df = pd.read_csv(\"lianjia.csv\", encoding='iso-8859-1', low_memory = False)\n",
        "df['price'] /= 10000\n",
        "df['communityAverage'] /= 10000\n",
        "df.head()"
      ],
      "execution_count": 145,
      "outputs": [
        {
          "output_type": "execute_result",
          "data": {
            "text/html": [
              "<div>\n",
              "<style scoped>\n",
              "    .dataframe tbody tr th:only-of-type {\n",
              "        vertical-align: middle;\n",
              "    }\n",
              "\n",
              "    .dataframe tbody tr th {\n",
              "        vertical-align: top;\n",
              "    }\n",
              "\n",
              "    .dataframe thead th {\n",
              "        text-align: right;\n",
              "    }\n",
              "</style>\n",
              "<table border=\"1\" class=\"dataframe\">\n",
              "  <thead>\n",
              "    <tr style=\"text-align: right;\">\n",
              "      <th></th>\n",
              "      <th>url</th>\n",
              "      <th>id</th>\n",
              "      <th>Lng</th>\n",
              "      <th>Lat</th>\n",
              "      <th>Cid</th>\n",
              "      <th>tradeTime</th>\n",
              "      <th>DOM</th>\n",
              "      <th>followers</th>\n",
              "      <th>totalPrice</th>\n",
              "      <th>price</th>\n",
              "      <th>square</th>\n",
              "      <th>livingRoom</th>\n",
              "      <th>drawingRoom</th>\n",
              "      <th>kitchen</th>\n",
              "      <th>bathRoom</th>\n",
              "      <th>buildingType</th>\n",
              "      <th>constructionTime</th>\n",
              "      <th>renovationCondition</th>\n",
              "      <th>buildingStructure</th>\n",
              "      <th>ladderRatio</th>\n",
              "      <th>elevator</th>\n",
              "      <th>fiveYearsProperty</th>\n",
              "      <th>subway</th>\n",
              "      <th>district</th>\n",
              "      <th>communityAverage</th>\n",
              "    </tr>\n",
              "  </thead>\n",
              "  <tbody>\n",
              "    <tr>\n",
              "      <th>0</th>\n",
              "      <td>https://bj.lianjia.com/chengjiao/BJCP85023690....</td>\n",
              "      <td>BJCP85023690</td>\n",
              "      <td>116.439341</td>\n",
              "      <td>40.082372</td>\n",
              "      <td>1.110000e+12</td>\n",
              "      <td>2012-10-11</td>\n",
              "      <td>1.0</td>\n",
              "      <td>0</td>\n",
              "      <td>11.5</td>\n",
              "      <td>0.1001</td>\n",
              "      <td>114.95</td>\n",
              "      <td>2</td>\n",
              "      <td>1</td>\n",
              "      <td>1</td>\n",
              "      <td>1</td>\n",
              "      <td>4.0</td>\n",
              "      <td>2004</td>\n",
              "      <td>1</td>\n",
              "      <td>2</td>\n",
              "      <td>0.500</td>\n",
              "      <td>0.0</td>\n",
              "      <td>0.0</td>\n",
              "      <td>0.0</td>\n",
              "      <td>6</td>\n",
              "      <td>3.8281</td>\n",
              "    </tr>\n",
              "    <tr>\n",
              "      <th>1</th>\n",
              "      <td>https://bj.lianjia.com/chengjiao/BJCP85020224....</td>\n",
              "      <td>BJCP85020224</td>\n",
              "      <td>116.431552</td>\n",
              "      <td>40.082903</td>\n",
              "      <td>1.110000e+12</td>\n",
              "      <td>2012-10-23</td>\n",
              "      <td>1.0</td>\n",
              "      <td>0</td>\n",
              "      <td>12.0</td>\n",
              "      <td>0.1002</td>\n",
              "      <td>119.80</td>\n",
              "      <td>2</td>\n",
              "      <td>1</td>\n",
              "      <td>1</td>\n",
              "      <td>2</td>\n",
              "      <td>3.0</td>\n",
              "      <td>2004</td>\n",
              "      <td>1</td>\n",
              "      <td>6</td>\n",
              "      <td>0.333</td>\n",
              "      <td>1.0</td>\n",
              "      <td>0.0</td>\n",
              "      <td>0.0</td>\n",
              "      <td>6</td>\n",
              "      <td>3.6869</td>\n",
              "    </tr>\n",
              "    <tr>\n",
              "      <th>2</th>\n",
              "      <td>https://bj.lianjia.com/chengjiao/BJCP84942984....</td>\n",
              "      <td>BJCP84942984</td>\n",
              "      <td>116.431552</td>\n",
              "      <td>40.082903</td>\n",
              "      <td>1.110000e+12</td>\n",
              "      <td>2012-09-17</td>\n",
              "      <td>1.0</td>\n",
              "      <td>0</td>\n",
              "      <td>12.0</td>\n",
              "      <td>0.1003</td>\n",
              "      <td>119.71</td>\n",
              "      <td>2</td>\n",
              "      <td>2</td>\n",
              "      <td>1</td>\n",
              "      <td>2</td>\n",
              "      <td>4.0</td>\n",
              "      <td>2004</td>\n",
              "      <td>1</td>\n",
              "      <td>6</td>\n",
              "      <td>0.333</td>\n",
              "      <td>1.0</td>\n",
              "      <td>1.0</td>\n",
              "      <td>0.0</td>\n",
              "      <td>6</td>\n",
              "      <td>3.6869</td>\n",
              "    </tr>\n",
              "    <tr>\n",
              "      <th>3</th>\n",
              "      <td>https://bj.lianjia.com/chengjiao/BJCP85669367....</td>\n",
              "      <td>BJCP85669367</td>\n",
              "      <td>116.431552</td>\n",
              "      <td>40.082903</td>\n",
              "      <td>1.110000e+12</td>\n",
              "      <td>2013-03-27</td>\n",
              "      <td>NaN</td>\n",
              "      <td>0</td>\n",
              "      <td>11.6</td>\n",
              "      <td>0.1007</td>\n",
              "      <td>114.64</td>\n",
              "      <td>2</td>\n",
              "      <td>2</td>\n",
              "      <td>1</td>\n",
              "      <td>2</td>\n",
              "      <td>3.0</td>\n",
              "      <td>2004</td>\n",
              "      <td>1</td>\n",
              "      <td>6</td>\n",
              "      <td>0.333</td>\n",
              "      <td>1.0</td>\n",
              "      <td>0.0</td>\n",
              "      <td>0.0</td>\n",
              "      <td>6</td>\n",
              "      <td>3.6869</td>\n",
              "    </tr>\n",
              "    <tr>\n",
              "      <th>4</th>\n",
              "      <td>https://bj.lianjia.com/chengjiao/BJCP85607005....</td>\n",
              "      <td>BJCP85607005</td>\n",
              "      <td>116.431552</td>\n",
              "      <td>40.082903</td>\n",
              "      <td>1.110000e+12</td>\n",
              "      <td>2013-03-15</td>\n",
              "      <td>NaN</td>\n",
              "      <td>0</td>\n",
              "      <td>11.6</td>\n",
              "      <td>0.1008</td>\n",
              "      <td>114.52</td>\n",
              "      <td>2</td>\n",
              "      <td>2</td>\n",
              "      <td>1</td>\n",
              "      <td>2</td>\n",
              "      <td>4.0</td>\n",
              "      <td>2005</td>\n",
              "      <td>1</td>\n",
              "      <td>2</td>\n",
              "      <td>0.500</td>\n",
              "      <td>0.0</td>\n",
              "      <td>0.0</td>\n",
              "      <td>0.0</td>\n",
              "      <td>6</td>\n",
              "      <td>3.6869</td>\n",
              "    </tr>\n",
              "  </tbody>\n",
              "</table>\n",
              "</div>"
            ],
            "text/plain": [
              "                                                 url  ... communityAverage\n",
              "0  https://bj.lianjia.com/chengjiao/BJCP85023690....  ...           3.8281\n",
              "1  https://bj.lianjia.com/chengjiao/BJCP85020224....  ...           3.6869\n",
              "2  https://bj.lianjia.com/chengjiao/BJCP84942984....  ...           3.6869\n",
              "3  https://bj.lianjia.com/chengjiao/BJCP85669367....  ...           3.6869\n",
              "4  https://bj.lianjia.com/chengjiao/BJCP85607005....  ...           3.6869\n",
              "\n",
              "[5 rows x 25 columns]"
            ]
          },
          "metadata": {
            "tags": []
          },
          "execution_count": 145
        }
      ]
    },
    {
      "cell_type": "code",
      "metadata": {
        "id": "Fgzf4jESibfQ",
        "outputId": "903f27fc-e8a0-42f1-d493-b53bf94c5733",
        "colab": {
          "base_uri": "https://localhost:8080/",
          "height": 662
        }
      },
      "source": [
        "#missing data\n",
        "total = df.isnull().sum().sort_values(ascending=False)\n",
        "percent = (df.isnull().sum()/df.isnull().count()).sort_values(ascending=False)\n",
        "missing_data = pd.concat([total, percent], axis=1, keys=['Total', 'Percent'])\n",
        "missing_data.head(20)"
      ],
      "execution_count": 146,
      "outputs": [
        {
          "output_type": "execute_result",
          "data": {
            "text/html": [
              "<div>\n",
              "<style scoped>\n",
              "    .dataframe tbody tr th:only-of-type {\n",
              "        vertical-align: middle;\n",
              "    }\n",
              "\n",
              "    .dataframe tbody tr th {\n",
              "        vertical-align: top;\n",
              "    }\n",
              "\n",
              "    .dataframe thead th {\n",
              "        text-align: right;\n",
              "    }\n",
              "</style>\n",
              "<table border=\"1\" class=\"dataframe\">\n",
              "  <thead>\n",
              "    <tr style=\"text-align: right;\">\n",
              "      <th></th>\n",
              "      <th>Total</th>\n",
              "      <th>Percent</th>\n",
              "    </tr>\n",
              "  </thead>\n",
              "  <tbody>\n",
              "    <tr>\n",
              "      <th>DOM</th>\n",
              "      <td>157736</td>\n",
              "      <td>0.495335</td>\n",
              "    </tr>\n",
              "    <tr>\n",
              "      <th>buildingType</th>\n",
              "      <td>2020</td>\n",
              "      <td>0.006343</td>\n",
              "    </tr>\n",
              "    <tr>\n",
              "      <th>communityAverage</th>\n",
              "      <td>462</td>\n",
              "      <td>0.001451</td>\n",
              "    </tr>\n",
              "    <tr>\n",
              "      <th>subway</th>\n",
              "      <td>32</td>\n",
              "      <td>0.000100</td>\n",
              "    </tr>\n",
              "    <tr>\n",
              "      <th>fiveYearsProperty</th>\n",
              "      <td>32</td>\n",
              "      <td>0.000100</td>\n",
              "    </tr>\n",
              "    <tr>\n",
              "      <th>elevator</th>\n",
              "      <td>32</td>\n",
              "      <td>0.000100</td>\n",
              "    </tr>\n",
              "    <tr>\n",
              "      <th>price</th>\n",
              "      <td>0</td>\n",
              "      <td>0.000000</td>\n",
              "    </tr>\n",
              "    <tr>\n",
              "      <th>id</th>\n",
              "      <td>0</td>\n",
              "      <td>0.000000</td>\n",
              "    </tr>\n",
              "    <tr>\n",
              "      <th>Lng</th>\n",
              "      <td>0</td>\n",
              "      <td>0.000000</td>\n",
              "    </tr>\n",
              "    <tr>\n",
              "      <th>Lat</th>\n",
              "      <td>0</td>\n",
              "      <td>0.000000</td>\n",
              "    </tr>\n",
              "    <tr>\n",
              "      <th>Cid</th>\n",
              "      <td>0</td>\n",
              "      <td>0.000000</td>\n",
              "    </tr>\n",
              "    <tr>\n",
              "      <th>tradeTime</th>\n",
              "      <td>0</td>\n",
              "      <td>0.000000</td>\n",
              "    </tr>\n",
              "    <tr>\n",
              "      <th>followers</th>\n",
              "      <td>0</td>\n",
              "      <td>0.000000</td>\n",
              "    </tr>\n",
              "    <tr>\n",
              "      <th>totalPrice</th>\n",
              "      <td>0</td>\n",
              "      <td>0.000000</td>\n",
              "    </tr>\n",
              "    <tr>\n",
              "      <th>drawingRoom</th>\n",
              "      <td>0</td>\n",
              "      <td>0.000000</td>\n",
              "    </tr>\n",
              "    <tr>\n",
              "      <th>square</th>\n",
              "      <td>0</td>\n",
              "      <td>0.000000</td>\n",
              "    </tr>\n",
              "    <tr>\n",
              "      <th>livingRoom</th>\n",
              "      <td>0</td>\n",
              "      <td>0.000000</td>\n",
              "    </tr>\n",
              "    <tr>\n",
              "      <th>district</th>\n",
              "      <td>0</td>\n",
              "      <td>0.000000</td>\n",
              "    </tr>\n",
              "    <tr>\n",
              "      <th>kitchen</th>\n",
              "      <td>0</td>\n",
              "      <td>0.000000</td>\n",
              "    </tr>\n",
              "    <tr>\n",
              "      <th>bathRoom</th>\n",
              "      <td>0</td>\n",
              "      <td>0.000000</td>\n",
              "    </tr>\n",
              "  </tbody>\n",
              "</table>\n",
              "</div>"
            ],
            "text/plain": [
              "                    Total   Percent\n",
              "DOM                157736  0.495335\n",
              "buildingType         2020  0.006343\n",
              "communityAverage      462  0.001451\n",
              "subway                 32  0.000100\n",
              "fiveYearsProperty      32  0.000100\n",
              "elevator               32  0.000100\n",
              "price                   0  0.000000\n",
              "id                      0  0.000000\n",
              "Lng                     0  0.000000\n",
              "Lat                     0  0.000000\n",
              "Cid                     0  0.000000\n",
              "tradeTime               0  0.000000\n",
              "followers               0  0.000000\n",
              "totalPrice              0  0.000000\n",
              "drawingRoom             0  0.000000\n",
              "square                  0  0.000000\n",
              "livingRoom              0  0.000000\n",
              "district                0  0.000000\n",
              "kitchen                 0  0.000000\n",
              "bathRoom                0  0.000000"
            ]
          },
          "metadata": {
            "tags": []
          },
          "execution_count": 146
        }
      ]
    },
    {
      "cell_type": "code",
      "metadata": {
        "id": "1rMlzS4xZgoZ",
        "outputId": "931de8cc-49a9-4b26-c048-17950d63bfd2",
        "colab": {
          "base_uri": "https://localhost:8080/",
          "height": 314
        }
      },
      "source": [
        "df.describe()"
      ],
      "execution_count": 147,
      "outputs": [
        {
          "output_type": "execute_result",
          "data": {
            "text/html": [
              "<div>\n",
              "<style scoped>\n",
              "    .dataframe tbody tr th:only-of-type {\n",
              "        vertical-align: middle;\n",
              "    }\n",
              "\n",
              "    .dataframe tbody tr th {\n",
              "        vertical-align: top;\n",
              "    }\n",
              "\n",
              "    .dataframe thead th {\n",
              "        text-align: right;\n",
              "    }\n",
              "</style>\n",
              "<table border=\"1\" class=\"dataframe\">\n",
              "  <thead>\n",
              "    <tr style=\"text-align: right;\">\n",
              "      <th></th>\n",
              "      <th>Lng</th>\n",
              "      <th>Lat</th>\n",
              "      <th>Cid</th>\n",
              "      <th>DOM</th>\n",
              "      <th>followers</th>\n",
              "      <th>totalPrice</th>\n",
              "      <th>price</th>\n",
              "      <th>square</th>\n",
              "      <th>kitchen</th>\n",
              "      <th>buildingType</th>\n",
              "      <th>renovationCondition</th>\n",
              "      <th>buildingStructure</th>\n",
              "      <th>ladderRatio</th>\n",
              "      <th>elevator</th>\n",
              "      <th>fiveYearsProperty</th>\n",
              "      <th>subway</th>\n",
              "      <th>district</th>\n",
              "      <th>communityAverage</th>\n",
              "    </tr>\n",
              "  </thead>\n",
              "  <tbody>\n",
              "    <tr>\n",
              "      <th>count</th>\n",
              "      <td>318443.000000</td>\n",
              "      <td>318443.000000</td>\n",
              "      <td>3.184430e+05</td>\n",
              "      <td>160707.000000</td>\n",
              "      <td>318443.000000</td>\n",
              "      <td>318443.000000</td>\n",
              "      <td>318443.000000</td>\n",
              "      <td>318443.000000</td>\n",
              "      <td>318443.000000</td>\n",
              "      <td>316423.000000</td>\n",
              "      <td>318443.000000</td>\n",
              "      <td>318443.000000</td>\n",
              "      <td>3.184430e+05</td>\n",
              "      <td>318411.000000</td>\n",
              "      <td>318411.000000</td>\n",
              "      <td>318411.000000</td>\n",
              "      <td>318443.000000</td>\n",
              "      <td>317981.000000</td>\n",
              "    </tr>\n",
              "    <tr>\n",
              "      <th>mean</th>\n",
              "      <td>116.418452</td>\n",
              "      <td>39.949518</td>\n",
              "      <td>1.128090e+12</td>\n",
              "      <td>28.850934</td>\n",
              "      <td>16.752533</td>\n",
              "      <td>349.471887</td>\n",
              "      <td>4.358580</td>\n",
              "      <td>83.215780</td>\n",
              "      <td>0.994592</td>\n",
              "      <td>3.009496</td>\n",
              "      <td>2.608156</td>\n",
              "      <td>4.451695</td>\n",
              "      <td>6.324527e+01</td>\n",
              "      <td>0.577113</td>\n",
              "      <td>0.645929</td>\n",
              "      <td>0.601232</td>\n",
              "      <td>6.763502</td>\n",
              "      <td>6.369130</td>\n",
              "    </tr>\n",
              "    <tr>\n",
              "      <th>std</th>\n",
              "      <td>0.112082</td>\n",
              "      <td>0.091967</td>\n",
              "      <td>2.357925e+12</td>\n",
              "      <td>50.255563</td>\n",
              "      <td>34.225975</td>\n",
              "      <td>230.598157</td>\n",
              "      <td>2.166773</td>\n",
              "      <td>37.221696</td>\n",
              "      <td>0.109507</td>\n",
              "      <td>1.269899</td>\n",
              "      <td>1.311355</td>\n",
              "      <td>1.901596</td>\n",
              "      <td>2.508456e+04</td>\n",
              "      <td>0.494019</td>\n",
              "      <td>0.478231</td>\n",
              "      <td>0.489646</td>\n",
              "      <td>2.813045</td>\n",
              "      <td>2.232519</td>\n",
              "    </tr>\n",
              "    <tr>\n",
              "      <th>min</th>\n",
              "      <td>116.072514</td>\n",
              "      <td>39.627030</td>\n",
              "      <td>1.110000e+12</td>\n",
              "      <td>1.000000</td>\n",
              "      <td>0.000000</td>\n",
              "      <td>4.000000</td>\n",
              "      <td>0.100100</td>\n",
              "      <td>6.900000</td>\n",
              "      <td>0.000000</td>\n",
              "      <td>0.048000</td>\n",
              "      <td>0.000000</td>\n",
              "      <td>0.000000</td>\n",
              "      <td>0.000000e+00</td>\n",
              "      <td>0.000000</td>\n",
              "      <td>0.000000</td>\n",
              "      <td>0.000000</td>\n",
              "      <td>1.000000</td>\n",
              "      <td>1.084700</td>\n",
              "    </tr>\n",
              "    <tr>\n",
              "      <th>25%</th>\n",
              "      <td>116.344985</td>\n",
              "      <td>39.893200</td>\n",
              "      <td>1.110000e+12</td>\n",
              "      <td>1.000000</td>\n",
              "      <td>0.000000</td>\n",
              "      <td>205.000000</td>\n",
              "      <td>2.808900</td>\n",
              "      <td>57.900000</td>\n",
              "      <td>1.000000</td>\n",
              "      <td>1.000000</td>\n",
              "      <td>1.000000</td>\n",
              "      <td>2.000000</td>\n",
              "      <td>2.500000e-01</td>\n",
              "      <td>0.000000</td>\n",
              "      <td>0.000000</td>\n",
              "      <td>0.000000</td>\n",
              "      <td>6.000000</td>\n",
              "      <td>4.633900</td>\n",
              "    </tr>\n",
              "    <tr>\n",
              "      <th>50%</th>\n",
              "      <td>116.416780</td>\n",
              "      <td>39.934527</td>\n",
              "      <td>1.110000e+12</td>\n",
              "      <td>7.000000</td>\n",
              "      <td>5.000000</td>\n",
              "      <td>294.500000</td>\n",
              "      <td>3.876300</td>\n",
              "      <td>74.230000</td>\n",
              "      <td>1.000000</td>\n",
              "      <td>4.000000</td>\n",
              "      <td>3.000000</td>\n",
              "      <td>6.000000</td>\n",
              "      <td>3.330000e-01</td>\n",
              "      <td>1.000000</td>\n",
              "      <td>1.000000</td>\n",
              "      <td>1.000000</td>\n",
              "      <td>7.000000</td>\n",
              "      <td>5.901500</td>\n",
              "    </tr>\n",
              "    <tr>\n",
              "      <th>75%</th>\n",
              "      <td>116.477581</td>\n",
              "      <td>40.002876</td>\n",
              "      <td>1.110000e+12</td>\n",
              "      <td>37.000000</td>\n",
              "      <td>18.000000</td>\n",
              "      <td>426.000000</td>\n",
              "      <td>5.384400</td>\n",
              "      <td>98.680000</td>\n",
              "      <td>1.000000</td>\n",
              "      <td>4.000000</td>\n",
              "      <td>4.000000</td>\n",
              "      <td>6.000000</td>\n",
              "      <td>5.000000e-01</td>\n",
              "      <td>1.000000</td>\n",
              "      <td>1.000000</td>\n",
              "      <td>1.000000</td>\n",
              "      <td>8.000000</td>\n",
              "      <td>7.599100</td>\n",
              "    </tr>\n",
              "    <tr>\n",
              "      <th>max</th>\n",
              "      <td>116.732378</td>\n",
              "      <td>40.252758</td>\n",
              "      <td>1.110000e+15</td>\n",
              "      <td>1677.000000</td>\n",
              "      <td>1143.000000</td>\n",
              "      <td>18130.000000</td>\n",
              "      <td>15.625000</td>\n",
              "      <td>1745.500000</td>\n",
              "      <td>4.000000</td>\n",
              "      <td>4.000000</td>\n",
              "      <td>4.000000</td>\n",
              "      <td>6.000000</td>\n",
              "      <td>1.000940e+07</td>\n",
              "      <td>1.000000</td>\n",
              "      <td>1.000000</td>\n",
              "      <td>1.000000</td>\n",
              "      <td>13.000000</td>\n",
              "      <td>18.310900</td>\n",
              "    </tr>\n",
              "  </tbody>\n",
              "</table>\n",
              "</div>"
            ],
            "text/plain": [
              "                 Lng            Lat  ...       district  communityAverage\n",
              "count  318443.000000  318443.000000  ...  318443.000000     317981.000000\n",
              "mean      116.418452      39.949518  ...       6.763502          6.369130\n",
              "std         0.112082       0.091967  ...       2.813045          2.232519\n",
              "min       116.072514      39.627030  ...       1.000000          1.084700\n",
              "25%       116.344985      39.893200  ...       6.000000          4.633900\n",
              "50%       116.416780      39.934527  ...       7.000000          5.901500\n",
              "75%       116.477581      40.002876  ...       8.000000          7.599100\n",
              "max       116.732378      40.252758  ...      13.000000         18.310900\n",
              "\n",
              "[8 rows x 18 columns]"
            ]
          },
          "metadata": {
            "tags": []
          },
          "execution_count": 147
        }
      ]
    },
    {
      "cell_type": "code",
      "metadata": {
        "id": "iQezKOtzZjG0",
        "outputId": "2876371f-4f4f-4cc5-f1d7-7388e8a39497",
        "colab": {
          "base_uri": "https://localhost:8080/",
          "height": 621
        }
      },
      "source": [
        "df.corr()"
      ],
      "execution_count": 148,
      "outputs": [
        {
          "output_type": "execute_result",
          "data": {
            "text/html": [
              "<div>\n",
              "<style scoped>\n",
              "    .dataframe tbody tr th:only-of-type {\n",
              "        vertical-align: middle;\n",
              "    }\n",
              "\n",
              "    .dataframe tbody tr th {\n",
              "        vertical-align: top;\n",
              "    }\n",
              "\n",
              "    .dataframe thead th {\n",
              "        text-align: right;\n",
              "    }\n",
              "</style>\n",
              "<table border=\"1\" class=\"dataframe\">\n",
              "  <thead>\n",
              "    <tr style=\"text-align: right;\">\n",
              "      <th></th>\n",
              "      <th>Lng</th>\n",
              "      <th>Lat</th>\n",
              "      <th>Cid</th>\n",
              "      <th>DOM</th>\n",
              "      <th>followers</th>\n",
              "      <th>totalPrice</th>\n",
              "      <th>price</th>\n",
              "      <th>square</th>\n",
              "      <th>kitchen</th>\n",
              "      <th>buildingType</th>\n",
              "      <th>renovationCondition</th>\n",
              "      <th>buildingStructure</th>\n",
              "      <th>ladderRatio</th>\n",
              "      <th>elevator</th>\n",
              "      <th>fiveYearsProperty</th>\n",
              "      <th>subway</th>\n",
              "      <th>district</th>\n",
              "      <th>communityAverage</th>\n",
              "    </tr>\n",
              "  </thead>\n",
              "  <tbody>\n",
              "    <tr>\n",
              "      <th>Lng</th>\n",
              "      <td>1.000000</td>\n",
              "      <td>0.040588</td>\n",
              "      <td>-0.007314</td>\n",
              "      <td>-0.014243</td>\n",
              "      <td>-0.012822</td>\n",
              "      <td>-0.069861</td>\n",
              "      <td>-0.153532</td>\n",
              "      <td>0.064421</td>\n",
              "      <td>0.059251</td>\n",
              "      <td>0.008629</td>\n",
              "      <td>-0.005760</td>\n",
              "      <td>0.041911</td>\n",
              "      <td>0.002028</td>\n",
              "      <td>0.044366</td>\n",
              "      <td>0.009743</td>\n",
              "      <td>-0.015849</td>\n",
              "      <td>0.223171</td>\n",
              "      <td>-0.174967</td>\n",
              "    </tr>\n",
              "    <tr>\n",
              "      <th>Lat</th>\n",
              "      <td>0.040588</td>\n",
              "      <td>1.000000</td>\n",
              "      <td>-0.000264</td>\n",
              "      <td>0.022916</td>\n",
              "      <td>-0.005308</td>\n",
              "      <td>0.021171</td>\n",
              "      <td>-0.050626</td>\n",
              "      <td>0.118965</td>\n",
              "      <td>-0.000904</td>\n",
              "      <td>0.099469</td>\n",
              "      <td>0.012751</td>\n",
              "      <td>-0.157732</td>\n",
              "      <td>-0.000195</td>\n",
              "      <td>-0.102627</td>\n",
              "      <td>0.010474</td>\n",
              "      <td>-0.076940</td>\n",
              "      <td>0.308744</td>\n",
              "      <td>-0.067231</td>\n",
              "    </tr>\n",
              "    <tr>\n",
              "      <th>Cid</th>\n",
              "      <td>-0.007314</td>\n",
              "      <td>-0.000264</td>\n",
              "      <td>1.000000</td>\n",
              "      <td>0.000950</td>\n",
              "      <td>0.001265</td>\n",
              "      <td>0.000058</td>\n",
              "      <td>-0.000408</td>\n",
              "      <td>-0.000407</td>\n",
              "      <td>-0.002440</td>\n",
              "      <td>0.006181</td>\n",
              "      <td>-0.001020</td>\n",
              "      <td>0.001105</td>\n",
              "      <td>-0.000019</td>\n",
              "      <td>-0.000505</td>\n",
              "      <td>-0.008743</td>\n",
              "      <td>0.001009</td>\n",
              "      <td>-0.004442</td>\n",
              "      <td>-0.005506</td>\n",
              "    </tr>\n",
              "    <tr>\n",
              "      <th>DOM</th>\n",
              "      <td>-0.014243</td>\n",
              "      <td>0.022916</td>\n",
              "      <td>0.000950</td>\n",
              "      <td>1.000000</td>\n",
              "      <td>0.465309</td>\n",
              "      <td>0.224843</td>\n",
              "      <td>0.214803</td>\n",
              "      <td>0.081536</td>\n",
              "      <td>0.010828</td>\n",
              "      <td>-0.010688</td>\n",
              "      <td>0.151669</td>\n",
              "      <td>0.025173</td>\n",
              "      <td>-0.001085</td>\n",
              "      <td>0.023419</td>\n",
              "      <td>-0.044709</td>\n",
              "      <td>0.009848</td>\n",
              "      <td>-0.001308</td>\n",
              "      <td>0.026149</td>\n",
              "    </tr>\n",
              "    <tr>\n",
              "      <th>followers</th>\n",
              "      <td>-0.012822</td>\n",
              "      <td>-0.005308</td>\n",
              "      <td>0.001265</td>\n",
              "      <td>0.465309</td>\n",
              "      <td>1.000000</td>\n",
              "      <td>0.152003</td>\n",
              "      <td>0.256640</td>\n",
              "      <td>-0.050552</td>\n",
              "      <td>0.007667</td>\n",
              "      <td>0.010823</td>\n",
              "      <td>0.240684</td>\n",
              "      <td>-0.022775</td>\n",
              "      <td>-0.000202</td>\n",
              "      <td>-0.020834</td>\n",
              "      <td>0.049341</td>\n",
              "      <td>0.018146</td>\n",
              "      <td>-0.032458</td>\n",
              "      <td>-0.012487</td>\n",
              "    </tr>\n",
              "    <tr>\n",
              "      <th>totalPrice</th>\n",
              "      <td>-0.069861</td>\n",
              "      <td>0.021171</td>\n",
              "      <td>0.000058</td>\n",
              "      <td>0.224843</td>\n",
              "      <td>0.152003</td>\n",
              "      <td>1.000000</td>\n",
              "      <td>0.621314</td>\n",
              "      <td>0.578215</td>\n",
              "      <td>0.081729</td>\n",
              "      <td>-0.060125</td>\n",
              "      <td>0.249399</td>\n",
              "      <td>0.187997</td>\n",
              "      <td>-0.001070</td>\n",
              "      <td>0.192570</td>\n",
              "      <td>-0.004249</td>\n",
              "      <td>0.113066</td>\n",
              "      <td>0.010373</td>\n",
              "      <td>0.421802</td>\n",
              "    </tr>\n",
              "    <tr>\n",
              "      <th>price</th>\n",
              "      <td>-0.153532</td>\n",
              "      <td>-0.050626</td>\n",
              "      <td>-0.000408</td>\n",
              "      <td>0.214803</td>\n",
              "      <td>0.256640</td>\n",
              "      <td>0.621314</td>\n",
              "      <td>1.000000</td>\n",
              "      <td>-0.164001</td>\n",
              "      <td>0.013468</td>\n",
              "      <td>-0.048373</td>\n",
              "      <td>0.293106</td>\n",
              "      <td>0.042330</td>\n",
              "      <td>0.001104</td>\n",
              "      <td>0.050455</td>\n",
              "      <td>0.012838</td>\n",
              "      <td>0.232842</td>\n",
              "      <td>0.034338</td>\n",
              "      <td>0.685299</td>\n",
              "    </tr>\n",
              "    <tr>\n",
              "      <th>square</th>\n",
              "      <td>0.064421</td>\n",
              "      <td>0.118965</td>\n",
              "      <td>-0.000407</td>\n",
              "      <td>0.081536</td>\n",
              "      <td>-0.050552</td>\n",
              "      <td>0.578215</td>\n",
              "      <td>-0.164001</td>\n",
              "      <td>1.000000</td>\n",
              "      <td>0.087795</td>\n",
              "      <td>-0.013786</td>\n",
              "      <td>0.032224</td>\n",
              "      <td>0.156783</td>\n",
              "      <td>-0.002421</td>\n",
              "      <td>0.168230</td>\n",
              "      <td>-0.017390</td>\n",
              "      <td>-0.094628</td>\n",
              "      <td>-0.007156</td>\n",
              "      <td>-0.145358</td>\n",
              "    </tr>\n",
              "    <tr>\n",
              "      <th>kitchen</th>\n",
              "      <td>0.059251</td>\n",
              "      <td>-0.000904</td>\n",
              "      <td>-0.002440</td>\n",
              "      <td>0.010828</td>\n",
              "      <td>0.007667</td>\n",
              "      <td>0.081729</td>\n",
              "      <td>0.013468</td>\n",
              "      <td>0.087795</td>\n",
              "      <td>1.000000</td>\n",
              "      <td>0.012964</td>\n",
              "      <td>-0.009748</td>\n",
              "      <td>-0.010634</td>\n",
              "      <td>0.000124</td>\n",
              "      <td>-0.004993</td>\n",
              "      <td>0.045931</td>\n",
              "      <td>0.010777</td>\n",
              "      <td>-0.033755</td>\n",
              "      <td>0.024487</td>\n",
              "    </tr>\n",
              "    <tr>\n",
              "      <th>buildingType</th>\n",
              "      <td>0.008629</td>\n",
              "      <td>0.099469</td>\n",
              "      <td>0.006181</td>\n",
              "      <td>-0.010688</td>\n",
              "      <td>0.010823</td>\n",
              "      <td>-0.060125</td>\n",
              "      <td>-0.048373</td>\n",
              "      <td>-0.013786</td>\n",
              "      <td>0.012964</td>\n",
              "      <td>1.000000</td>\n",
              "      <td>-0.011067</td>\n",
              "      <td>-0.535638</td>\n",
              "      <td>-0.000016</td>\n",
              "      <td>-0.630108</td>\n",
              "      <td>-0.000346</td>\n",
              "      <td>-0.147446</td>\n",
              "      <td>0.043847</td>\n",
              "      <td>-0.089597</td>\n",
              "    </tr>\n",
              "    <tr>\n",
              "      <th>renovationCondition</th>\n",
              "      <td>-0.005760</td>\n",
              "      <td>0.012751</td>\n",
              "      <td>-0.001020</td>\n",
              "      <td>0.151669</td>\n",
              "      <td>0.240684</td>\n",
              "      <td>0.249399</td>\n",
              "      <td>0.293106</td>\n",
              "      <td>0.032224</td>\n",
              "      <td>-0.009748</td>\n",
              "      <td>-0.011067</td>\n",
              "      <td>1.000000</td>\n",
              "      <td>0.047544</td>\n",
              "      <td>-0.000207</td>\n",
              "      <td>0.051375</td>\n",
              "      <td>0.120309</td>\n",
              "      <td>0.004445</td>\n",
              "      <td>-0.009839</td>\n",
              "      <td>0.009619</td>\n",
              "    </tr>\n",
              "    <tr>\n",
              "      <th>buildingStructure</th>\n",
              "      <td>0.041911</td>\n",
              "      <td>-0.157732</td>\n",
              "      <td>0.001105</td>\n",
              "      <td>0.025173</td>\n",
              "      <td>-0.022775</td>\n",
              "      <td>0.187997</td>\n",
              "      <td>0.042330</td>\n",
              "      <td>0.156783</td>\n",
              "      <td>-0.010634</td>\n",
              "      <td>-0.535638</td>\n",
              "      <td>0.047544</td>\n",
              "      <td>1.000000</td>\n",
              "      <td>0.002040</td>\n",
              "      <td>0.812590</td>\n",
              "      <td>-0.122562</td>\n",
              "      <td>0.092098</td>\n",
              "      <td>-0.100225</td>\n",
              "      <td>0.071257</td>\n",
              "    </tr>\n",
              "    <tr>\n",
              "      <th>ladderRatio</th>\n",
              "      <td>0.002028</td>\n",
              "      <td>-0.000195</td>\n",
              "      <td>-0.000019</td>\n",
              "      <td>-0.001085</td>\n",
              "      <td>-0.000202</td>\n",
              "      <td>-0.001070</td>\n",
              "      <td>0.001104</td>\n",
              "      <td>-0.002421</td>\n",
              "      <td>0.000124</td>\n",
              "      <td>-0.000016</td>\n",
              "      <td>-0.000207</td>\n",
              "      <td>0.002040</td>\n",
              "      <td>1.000000</td>\n",
              "      <td>0.002144</td>\n",
              "      <td>-0.000765</td>\n",
              "      <td>-0.003078</td>\n",
              "      <td>0.000211</td>\n",
              "      <td>-0.000922</td>\n",
              "    </tr>\n",
              "    <tr>\n",
              "      <th>elevator</th>\n",
              "      <td>0.044366</td>\n",
              "      <td>-0.102627</td>\n",
              "      <td>-0.000505</td>\n",
              "      <td>0.023419</td>\n",
              "      <td>-0.020834</td>\n",
              "      <td>0.192570</td>\n",
              "      <td>0.050455</td>\n",
              "      <td>0.168230</td>\n",
              "      <td>-0.004993</td>\n",
              "      <td>-0.630108</td>\n",
              "      <td>0.051375</td>\n",
              "      <td>0.812590</td>\n",
              "      <td>0.002144</td>\n",
              "      <td>1.000000</td>\n",
              "      <td>-0.119577</td>\n",
              "      <td>0.106180</td>\n",
              "      <td>-0.064026</td>\n",
              "      <td>0.087315</td>\n",
              "    </tr>\n",
              "    <tr>\n",
              "      <th>fiveYearsProperty</th>\n",
              "      <td>0.009743</td>\n",
              "      <td>0.010474</td>\n",
              "      <td>-0.008743</td>\n",
              "      <td>-0.044709</td>\n",
              "      <td>0.049341</td>\n",
              "      <td>-0.004249</td>\n",
              "      <td>0.012838</td>\n",
              "      <td>-0.017390</td>\n",
              "      <td>0.045931</td>\n",
              "      <td>-0.000346</td>\n",
              "      <td>0.120309</td>\n",
              "      <td>-0.122562</td>\n",
              "      <td>-0.000765</td>\n",
              "      <td>-0.119577</td>\n",
              "      <td>1.000000</td>\n",
              "      <td>0.060903</td>\n",
              "      <td>0.011827</td>\n",
              "      <td>0.069445</td>\n",
              "    </tr>\n",
              "    <tr>\n",
              "      <th>subway</th>\n",
              "      <td>-0.015849</td>\n",
              "      <td>-0.076940</td>\n",
              "      <td>0.001009</td>\n",
              "      <td>0.009848</td>\n",
              "      <td>0.018146</td>\n",
              "      <td>0.113066</td>\n",
              "      <td>0.232842</td>\n",
              "      <td>-0.094628</td>\n",
              "      <td>0.010777</td>\n",
              "      <td>-0.147446</td>\n",
              "      <td>0.004445</td>\n",
              "      <td>0.092098</td>\n",
              "      <td>-0.003078</td>\n",
              "      <td>0.106180</td>\n",
              "      <td>0.060903</td>\n",
              "      <td>1.000000</td>\n",
              "      <td>-0.109959</td>\n",
              "      <td>0.314060</td>\n",
              "    </tr>\n",
              "    <tr>\n",
              "      <th>district</th>\n",
              "      <td>0.223171</td>\n",
              "      <td>0.308744</td>\n",
              "      <td>-0.004442</td>\n",
              "      <td>-0.001308</td>\n",
              "      <td>-0.032458</td>\n",
              "      <td>0.010373</td>\n",
              "      <td>0.034338</td>\n",
              "      <td>-0.007156</td>\n",
              "      <td>-0.033755</td>\n",
              "      <td>0.043847</td>\n",
              "      <td>-0.009839</td>\n",
              "      <td>-0.100225</td>\n",
              "      <td>0.000211</td>\n",
              "      <td>-0.064026</td>\n",
              "      <td>0.011827</td>\n",
              "      <td>-0.109959</td>\n",
              "      <td>1.000000</td>\n",
              "      <td>0.092318</td>\n",
              "    </tr>\n",
              "    <tr>\n",
              "      <th>communityAverage</th>\n",
              "      <td>-0.174967</td>\n",
              "      <td>-0.067231</td>\n",
              "      <td>-0.005506</td>\n",
              "      <td>0.026149</td>\n",
              "      <td>-0.012487</td>\n",
              "      <td>0.421802</td>\n",
              "      <td>0.685299</td>\n",
              "      <td>-0.145358</td>\n",
              "      <td>0.024487</td>\n",
              "      <td>-0.089597</td>\n",
              "      <td>0.009619</td>\n",
              "      <td>0.071257</td>\n",
              "      <td>-0.000922</td>\n",
              "      <td>0.087315</td>\n",
              "      <td>0.069445</td>\n",
              "      <td>0.314060</td>\n",
              "      <td>0.092318</td>\n",
              "      <td>1.000000</td>\n",
              "    </tr>\n",
              "  </tbody>\n",
              "</table>\n",
              "</div>"
            ],
            "text/plain": [
              "                          Lng       Lat  ...  district  communityAverage\n",
              "Lng                  1.000000  0.040588  ...  0.223171         -0.174967\n",
              "Lat                  0.040588  1.000000  ...  0.308744         -0.067231\n",
              "Cid                 -0.007314 -0.000264  ... -0.004442         -0.005506\n",
              "DOM                 -0.014243  0.022916  ... -0.001308          0.026149\n",
              "followers           -0.012822 -0.005308  ... -0.032458         -0.012487\n",
              "totalPrice          -0.069861  0.021171  ...  0.010373          0.421802\n",
              "price               -0.153532 -0.050626  ...  0.034338          0.685299\n",
              "square               0.064421  0.118965  ... -0.007156         -0.145358\n",
              "kitchen              0.059251 -0.000904  ... -0.033755          0.024487\n",
              "buildingType         0.008629  0.099469  ...  0.043847         -0.089597\n",
              "renovationCondition -0.005760  0.012751  ... -0.009839          0.009619\n",
              "buildingStructure    0.041911 -0.157732  ... -0.100225          0.071257\n",
              "ladderRatio          0.002028 -0.000195  ...  0.000211         -0.000922\n",
              "elevator             0.044366 -0.102627  ... -0.064026          0.087315\n",
              "fiveYearsProperty    0.009743  0.010474  ...  0.011827          0.069445\n",
              "subway              -0.015849 -0.076940  ... -0.109959          0.314060\n",
              "district             0.223171  0.308744  ...  1.000000          0.092318\n",
              "communityAverage    -0.174967 -0.067231  ...  0.092318          1.000000\n",
              "\n",
              "[18 rows x 18 columns]"
            ]
          },
          "metadata": {
            "tags": []
          },
          "execution_count": 148
        }
      ]
    },
    {
      "cell_type": "code",
      "metadata": {
        "id": "ZhhEexodcSgv",
        "outputId": "8aa4a139-eb9a-4095-b954-ca61f0cc0355",
        "colab": {
          "base_uri": "https://localhost:8080/",
          "height": 363
        }
      },
      "source": [
        "sns.distplot(df['price'])"
      ],
      "execution_count": 149,
      "outputs": [
        {
          "output_type": "stream",
          "text": [
            "/usr/local/lib/python3.6/dist-packages/seaborn/distributions.py:2551: FutureWarning: `distplot` is a deprecated function and will be removed in a future version. Please adapt your code to use either `displot` (a figure-level function with similar flexibility) or `histplot` (an axes-level function for histograms).\n",
            "  warnings.warn(msg, FutureWarning)\n"
          ],
          "name": "stderr"
        },
        {
          "output_type": "execute_result",
          "data": {
            "text/plain": [
              "<matplotlib.axes._subplots.AxesSubplot at 0x7f1a708d42b0>"
            ]
          },
          "metadata": {
            "tags": []
          },
          "execution_count": 149
        },
        {
          "output_type": "display_data",
          "data": {
            "image/png": "[encoded data removed]",
            "text/plain": [
              "<Figure size 432x288 with 1 Axes>"
            ]
          },
          "metadata": {
            "tags": []
          }
        }
      ]
    },
    {
      "cell_type": "code",
      "metadata": {
        "id": "KZPlHKDsZmIj",
        "outputId": "c24456cb-4ca5-4998-c703-cd32ba9042d8",
        "colab": {
          "base_uri": "https://localhost:8080/",
          "height": 222
        }
      },
      "source": [
        "df = df[['price','followers', 'kitchen', 'renovationCondition', 'elevator', 'subway', 'communityAverage', 'Lng', 'Lat',  'totalPrice', 'livingRoom', 'drawingRoom', 'bathRoom',  'constructionTime', 'renovationCondition','ladderRatio']]\n",
        "df.head()"
      ],
      "execution_count": 150,
      "outputs": [
        {
          "output_type": "execute_result",
          "data": {
            "text/html": [
              "<div>\n",
              "<style scoped>\n",
              "    .dataframe tbody tr th:only-of-type {\n",
              "        vertical-align: middle;\n",
              "    }\n",
              "\n",
              "    .dataframe tbody tr th {\n",
              "        vertical-align: top;\n",
              "    }\n",
              "\n",
              "    .dataframe thead th {\n",
              "        text-align: right;\n",
              "    }\n",
              "</style>\n",
              "<table border=\"1\" class=\"dataframe\">\n",
              "  <thead>\n",
              "    <tr style=\"text-align: right;\">\n",
              "      <th></th>\n",
              "      <th>price</th>\n",
              "      <th>followers</th>\n",
              "      <th>kitchen</th>\n",
              "      <th>renovationCondition</th>\n",
              "      <th>elevator</th>\n",
              "      <th>subway</th>\n",
              "      <th>communityAverage</th>\n",
              "      <th>Lng</th>\n",
              "      <th>Lat</th>\n",
              "      <th>totalPrice</th>\n",
              "      <th>livingRoom</th>\n",
              "      <th>drawingRoom</th>\n",
              "      <th>bathRoom</th>\n",
              "      <th>constructionTime</th>\n",
              "      <th>renovationCondition</th>\n",
              "      <th>ladderRatio</th>\n",
              "    </tr>\n",
              "  </thead>\n",
              "  <tbody>\n",
              "    <tr>\n",
              "      <th>0</th>\n",
              "      <td>0.1001</td>\n",
              "      <td>0</td>\n",
              "      <td>1</td>\n",
              "      <td>1</td>\n",
              "      <td>0.0</td>\n",
              "      <td>0.0</td>\n",
              "      <td>3.8281</td>\n",
              "      <td>116.439341</td>\n",
              "      <td>40.082372</td>\n",
              "      <td>11.5</td>\n",
              "      <td>2</td>\n",
              "      <td>1</td>\n",
              "      <td>1</td>\n",
              "      <td>2004</td>\n",
              "      <td>1</td>\n",
              "      <td>0.500</td>\n",
              "    </tr>\n",
              "    <tr>\n",
              "      <th>1</th>\n",
              "      <td>0.1002</td>\n",
              "      <td>0</td>\n",
              "      <td>1</td>\n",
              "      <td>1</td>\n",
              "      <td>1.0</td>\n",
              "      <td>0.0</td>\n",
              "      <td>3.6869</td>\n",
              "      <td>116.431552</td>\n",
              "      <td>40.082903</td>\n",
              "      <td>12.0</td>\n",
              "      <td>2</td>\n",
              "      <td>1</td>\n",
              "      <td>2</td>\n",
              "      <td>2004</td>\n",
              "      <td>1</td>\n",
              "      <td>0.333</td>\n",
              "    </tr>\n",
              "    <tr>\n",
              "      <th>2</th>\n",
              "      <td>0.1003</td>\n",
              "      <td>0</td>\n",
              "      <td>1</td>\n",
              "      <td>1</td>\n",
              "      <td>1.0</td>\n",
              "      <td>0.0</td>\n",
              "      <td>3.6869</td>\n",
              "      <td>116.431552</td>\n",
              "      <td>40.082903</td>\n",
              "      <td>12.0</td>\n",
              "      <td>2</td>\n",
              "      <td>2</td>\n",
              "      <td>2</td>\n",
              "      <td>2004</td>\n",
              "      <td>1</td>\n",
              "      <td>0.333</td>\n",
              "    </tr>\n",
              "    <tr>\n",
              "      <th>3</th>\n",
              "      <td>0.1007</td>\n",
              "      <td>0</td>\n",
              "      <td>1</td>\n",
              "      <td>1</td>\n",
              "      <td>1.0</td>\n",
              "      <td>0.0</td>\n",
              "      <td>3.6869</td>\n",
              "      <td>116.431552</td>\n",
              "      <td>40.082903</td>\n",
              "      <td>11.6</td>\n",
              "      <td>2</td>\n",
              "      <td>2</td>\n",
              "      <td>2</td>\n",
              "      <td>2004</td>\n",
              "      <td>1</td>\n",
              "      <td>0.333</td>\n",
              "    </tr>\n",
              "    <tr>\n",
              "      <th>4</th>\n",
              "      <td>0.1008</td>\n",
              "      <td>0</td>\n",
              "      <td>1</td>\n",
              "      <td>1</td>\n",
              "      <td>0.0</td>\n",
              "      <td>0.0</td>\n",
              "      <td>3.6869</td>\n",
              "      <td>116.431552</td>\n",
              "      <td>40.082903</td>\n",
              "      <td>11.6</td>\n",
              "      <td>2</td>\n",
              "      <td>2</td>\n",
              "      <td>2</td>\n",
              "      <td>2005</td>\n",
              "      <td>1</td>\n",
              "      <td>0.500</td>\n",
              "    </tr>\n",
              "  </tbody>\n",
              "</table>\n",
              "</div>"
            ],
            "text/plain": [
              "    price  followers  ...  renovationCondition  ladderRatio\n",
              "0  0.1001          0  ...                    1        0.500\n",
              "1  0.1002          0  ...                    1        0.333\n",
              "2  0.1003          0  ...                    1        0.333\n",
              "3  0.1007          0  ...                    1        0.333\n",
              "4  0.1008          0  ...                    1        0.500\n",
              "\n",
              "[5 rows x 16 columns]"
            ]
          },
          "metadata": {
            "tags": []
          },
          "execution_count": 150
        }
      ]
    },
    {
      "cell_type": "code",
      "metadata": {
        "id": "UHGycOnvaEK4",
        "outputId": "0022bb97-0ec2-429a-d03a-c4543ed511cd",
        "colab": {
          "base_uri": "https://localhost:8080/"
        }
      },
      "source": [
        "df = df.fillna(df.mean())\n",
        "df.info()"
      ],
      "execution_count": 151,
      "outputs": [
        {
          "output_type": "stream",
          "text": [
            "<class 'pandas.core.frame.DataFrame'>\n",
            "RangeIndex: 318443 entries, 0 to 318442\n",
            "Data columns (total 16 columns):\n",
            " #   Column               Non-Null Count   Dtype  \n",
            "---  ------               --------------   -----  \n",
            " 0   price                318443 non-null  float64\n",
            " 1   followers            318443 non-null  int64  \n",
            " 2   kitchen              318443 non-null  int64  \n",
            " 3   renovationCondition  318443 non-null  int64  \n",
            " 4   elevator             318411 non-null  float64\n",
            " 5   subway               318411 non-null  float64\n",
            " 6   communityAverage     317981 non-null  float64\n",
            " 7   Lng                  318443 non-null  float64\n",
            " 8   Lat                  318443 non-null  float64\n",
            " 9   totalPrice           318443 non-null  float64\n",
            " 10  livingRoom           318443 non-null  object \n",
            " 11  drawingRoom          318443 non-null  object \n",
            " 12  bathRoom             318443 non-null  object \n",
            " 13  constructionTime     318443 non-null  object \n",
            " 14  renovationCondition  318443 non-null  int64  \n",
            " 15  ladderRatio          318443 non-null  float64\n",
            "dtypes: float64(8), int64(4), object(4)\n",
            "memory usage: 38.9+ MB\n"
          ],
          "name": "stdout"
        },
        {
          "output_type": "stream",
          "text": [
            "/usr/local/lib/python3.6/dist-packages/pandas/core/series.py:4535: SettingWithCopyWarning: \n",
            "A value is trying to be set on a copy of a slice from a DataFrame\n",
            "\n",
            "See the caveats in the documentation: https://pandas.pydata.org/pandas-docs/stable/user_guide/indexing.html#returning-a-view-versus-a-copy\n",
            "  downcast=downcast,\n",
            "/usr/local/lib/python3.6/dist-packages/pandas/core/frame.py:4327: SettingWithCopyWarning: \n",
            "A value is trying to be set on a copy of a slice from a DataFrame\n",
            "\n",
            "See the caveats in the documentation: https://pandas.pydata.org/pandas-docs/stable/user_guide/indexing.html#returning-a-view-versus-a-copy\n",
            "  downcast=downcast,\n"
          ],
          "name": "stderr"
        }
      ]
    },
    {
      "cell_type": "code",
      "metadata": {
        "id": "LMcdR8WMaE6_",
        "outputId": "4ada8ef5-d077-4729-81c1-07798d2687e2",
        "colab": {
          "base_uri": "https://localhost:8080/"
        }
      },
      "source": [
        "X = df.drop('price', axis = 1)\n",
        "y = df['price']\n",
        "y.describe()"
      ],
      "execution_count": 152,
      "outputs": [
        {
          "output_type": "execute_result",
          "data": {
            "text/plain": [
              "count    318443.000000\n",
              "mean          4.358580\n",
              "std           2.166773\n",
              "min           0.100100\n",
              "25%           2.808900\n",
              "50%           3.876300\n",
              "75%           5.384400\n",
              "max          15.625000\n",
              "Name: price, dtype: float64"
            ]
          },
          "metadata": {
            "tags": []
          },
          "execution_count": 152
        }
      ]
    },
    {
      "cell_type": "code",
      "metadata": {
        "id": "2S1T8tA2n-Gw",
        "outputId": "eb20fb04-90b8-48ef-cc15-17e0fce6aaf3",
        "colab": {
          "base_uri": "https://localhost:8080/"
        }
      },
      "source": [
        "#skewness and kurtosis\n",
        "print(\"Skewness: %f\" % y.skew())\n",
        "print(\"Kurtosis: %f\" % y.kurt())"
      ],
      "execution_count": 153,
      "outputs": [
        {
          "output_type": "stream",
          "text": [
            "Skewness: 1.314505\n",
            "Kurtosis: 2.186004\n"
          ],
          "name": "stdout"
        }
      ]
    },
    {
      "cell_type": "code",
      "metadata": {
        "id": "GwXSC1GHozRu",
        "outputId": "0f72eef4-a9a6-4315-e2f8-9fd41921b757",
        "colab": {
          "base_uri": "https://localhost:8080/",
          "height": 675
        }
      },
      "source": [
        "#correlation matrix\n",
        "import matplotlib.pyplot as plt\n",
        "corrmat = df.corr()\n",
        "f, ax = plt.subplots(figsize=(12, 9))\n",
        "sns.heatmap(corrmat, vmax=.8, square=True);"
      ],
      "execution_count": 154,
      "outputs": [
        {
          "output_type": "display_data",
          "data": {
            "image/png": "[encoded data removed]",
            "text/plain": [
              "<Figure size 864x648 with 2 Axes>"
            ]
          },
          "metadata": {
            "tags": []
          }
        }
      ]
    },
    {
      "cell_type": "code",
      "metadata": {
        "id": "xHpaEp6cpeZG",
        "outputId": "4eeb3d86-09d3-441f-9ebe-53aa3b299b7a",
        "colab": {
          "base_uri": "https://localhost:8080/",
          "height": 403
        }
      },
      "source": [
        "#saleprice correlation matrix\n",
        "k = 10 #number of variables for heatmap\n",
        "cols = corrmat.nlargest(k, 'price')['price'].index\n",
        "cm = np.corrcoef(df[cols].values.T)\n",
        "sns.set(font_scale=1.25)\n",
        "hm = sns.heatmap(cm, cbar=True, annot=True, square=True, fmt='.2f', annot_kws={'size': 10}, yticklabels=cols.values, xticklabels=cols.values)\n",
        "plt.show()"
      ],
      "execution_count": 155,
      "outputs": [
        {
          "output_type": "display_data",
          "data": {
            "image/png": "[encoded data removed]",
            "text/plain": [
              "<Figure size 432x288 with 2 Axes>"
            ]
          },
          "metadata": {
            "tags": []
          }
        }
      ]
    },
    {
      "cell_type": "code",
      "metadata": {
        "id": "L6cseMuPp7vy"
      },
      "source": [
        "#scatterplot\n",
        "# sns.set()\n",
        "# cols = ['price','followers', 'kitchen', 'renovationCondition', 'elevator', 'subway', 'communityAverage']\n",
        "# sns.pairplot(df[cols], size = 2.5)\n",
        "# plt.show();"
      ],
      "execution_count": 156,
      "outputs": []
    },
    {
      "cell_type": "code",
      "metadata": {
        "id": "0pacSKSGsi_z",
        "outputId": "0078ea00-2c27-459c-9100-1c3dcd33245b",
        "colab": {
          "base_uri": "https://localhost:8080/"
        }
      },
      "source": [
        "#outliar univariate analysis\n",
        "from sklearn.preprocessing import StandardScaler\n",
        "saleprice_scaled = StandardScaler().fit_transform(df['price'][:,np.newaxis]);\n",
        "low_range = saleprice_scaled[saleprice_scaled[:,0].argsort()][:10]\n",
        "high_range= saleprice_scaled[saleprice_scaled[:,0].argsort()][-10:]\n",
        "print('outer range (low) of the distribution:')\n",
        "print(low_range)\n",
        "print('\\nouter range (high) of the distribution:')\n",
        "print(high_range)"
      ],
      "execution_count": 157,
      "outputs": [
        {
          "output_type": "stream",
          "text": [
            "outer range (low) of the distribution:\n",
            "[[-1.9653592 ]\n",
            " [-1.96531305]\n",
            " [-1.9652669 ]\n",
            " [-1.96508229]\n",
            " [-1.96503614]\n",
            " [-1.96498999]\n",
            " [-1.96494384]\n",
            " [-1.96494384]\n",
            " [-1.96485154]\n",
            " [-1.96480538]]\n",
            "\n",
            "outer range (high) of the distribution:\n",
            "[[4.90823891]\n",
            " [4.90842352]\n",
            " [4.90851582]\n",
            " [4.90883889]\n",
            " [4.90943886]\n",
            " [4.90966962]\n",
            " [4.91119262]\n",
            " [4.91119262]\n",
            " [4.91119262]\n",
            " [5.19964052]]\n"
          ],
          "name": "stdout"
        },
        {
          "output_type": "stream",
          "text": [
            "/usr/local/lib/python3.6/dist-packages/ipykernel_launcher.py:3: FutureWarning: Support for multi-dimensional indexing (e.g. `obj[:, None]`) is deprecated and will be removed in a future version.  Convert to a numpy array before indexing instead.\n",
            "  This is separate from the ipykernel package so we can avoid doing imports until\n"
          ],
          "name": "stderr"
        }
      ]
    },
    {
      "cell_type": "markdown",
      "metadata": {
        "id": "SdSK35IXJxBe"
      },
      "source": [
        "Evaluation Methods reference: https://www.kaggle.com/aadhavvignesh/regression-with-scikit-learn-practical-ml-1"
      ]
    },
    {
      "cell_type": "code",
      "metadata": {
        "id": "vGknxoOVNtBO"
      },
      "source": [
        "df = pd.read_csv(\"lianjia.csv\", encoding='iso-8859-1', low_memory = False)\n",
        "df = df[['price', 'followers', 'kitchen', 'renovationCondition', 'elevator', 'subway', 'communityAverage']]\n",
        "df['price'] = df['price'].div(10000)\n",
        "df['communityAverage'] = df['communityAverage'].div(10000)\n",
        "df = df.fillna(df.mean())\n",
        "X = df.drop('price', axis = 1)\n",
        "y = df['price']"
      ],
      "execution_count": 158,
      "outputs": []
    },
    {
      "cell_type": "code",
      "metadata": {
        "id": "dIJbXtzpaSQH"
      },
      "source": [
        "from sklearn.model_selection import train_test_split\n",
        "X_train, X_test, y_train, y_test = train_test_split(X, y, test_size=0.2, random_state=7)"
      ],
      "execution_count": 159,
      "outputs": []
    },
    {
      "cell_type": "code",
      "metadata": {
        "id": "A62xci1LJsbF"
      },
      "source": [
        "from sklearn import metrics\n",
        "from sklearn.model_selection import cross_val_score\n",
        "\n",
        "results_df = pd.DataFrame()\n",
        "columns = [\"Model\", \"Cross Val Score\", \"MAE\", \"MSE\", \"RMSE\", \"R2\"]\n",
        "\n",
        "def evaluate(true, predicted):\n",
        "    mae = metrics.mean_absolute_error(true, predicted)\n",
        "    mse = metrics.mean_squared_error(true, predicted)\n",
        "    rmse = np.sqrt(metrics.mean_squared_error(true, predicted))\n",
        "    r2_square = metrics.r2_score(true, predicted)\n",
        "    return mae, mse, rmse, r2_square\n",
        "\n",
        "def append_results(model_name, model, results_df, y_test, pred):\n",
        "    results_append_df = pd.DataFrame(data=[[model_name, *evaluate(y_test, pred) , cross_val_score(model, X, y, cv=10).mean()]], columns=columns)\n",
        "    results_df = results_df.append(results_append_df, ignore_index = True)\n",
        "    return results_df"
      ],
      "execution_count": 160,
      "outputs": []
    },
    {
      "cell_type": "markdown",
      "metadata": {
        "id": "I5hSz7KXIVmX"
      },
      "source": [
        "## **Linear Regression**"
      ]
    },
    {
      "cell_type": "code",
      "metadata": {
        "id": "f2vvNvrCIAbE"
      },
      "source": [
        "from sklearn.linear_model import LinearRegression\n",
        "\n",
        "LinearReg = LinearRegression(normalize=True)\n",
        "LinearReg.fit(X_train,y_train)\n",
        "\n",
        "pred = LinearReg.predict(X_test)\n",
        "\n",
        "results_df = append_results(\"Linear Regression\",  LinearRegression(), results_df, y_test, pred)"
      ],
      "execution_count": 161,
      "outputs": []
    },
    {
      "cell_type": "code",
      "metadata": {
        "id": "VhYHsiLcIJGa",
        "outputId": "add777dc-5a57-4974-e9d5-42404fa40781",
        "colab": {
          "base_uri": "https://localhost:8080/",
          "height": 338
        }
      },
      "source": [
        "plt.scatter(pred[0::100], y_test[0::100], s=5)\n",
        "b=a=np.linspace(0,14,100)\n",
        "plt.plot(a,b)\n",
        "plt.xlabel(\"predict price of linear regression model (unit: 10000 yuan)\")\n",
        "plt.ylabel(\"real price in test data (unit: 10000 yuan)\")\n",
        "plt.savefig('linear.png')\n",
        "plt.show()"
      ],
      "execution_count": 162,
      "outputs": [
        {
          "output_type": "display_data",
          "data": {
            "image/png": "[encoded data removed]",
            "text/plain": [
              "<Figure size 432x288 with 1 Axes>"
            ]
          },
          "metadata": {
            "tags": []
          }
        }
      ]
    },
    {
      "cell_type": "markdown",
      "metadata": {
        "id": "DUMbiVs0IeLa"
      },
      "source": [
        "## **Robust Regression**"
      ]
    },
    {
      "cell_type": "code",
      "metadata": {
        "id": "nQQgYb8eIdiC"
      },
      "source": [
        "from sklearn.linear_model import RANSACRegressor\n",
        "\n",
        "RobustReg = RANSACRegressor()\n",
        "RobustReg.fit(X_train, y_train)\n",
        "\n",
        "pred = RobustReg.predict(X_test)\n",
        "results_df = append_results(\"Robust Regression\",  RANSACRegressor(), results_df, y_test, pred)"
      ],
      "execution_count": 163,
      "outputs": []
    },
    {
      "cell_type": "code",
      "metadata": {
        "id": "lTdFdzGSIz20",
        "outputId": "00a18ecc-9813-4a8f-a852-3de59307b13b",
        "colab": {
          "base_uri": "https://localhost:8080/",
          "height": 338
        }
      },
      "source": [
        "plt.scatter(pred[0::100], y_test[0::100],s=5)\n",
        "plt.plot(a,b)\n",
        "plt.xlabel(\"predict price of robust regression model (unit: 10000 yuan)\")\n",
        "plt.ylabel(\"real price in test data (unit: 10000 yuan)\")\n",
        "plt.savefig('robust.png')\n",
        "plt.show()"
      ],
      "execution_count": 164,
      "outputs": [
        {
          "output_type": "display_data",
          "data": {
            "image/png": "[encoded data removed]",
            "text/plain": [
              "<Figure size 432x288 with 1 Axes>"
            ]
          },
          "metadata": {
            "tags": []
          }
        }
      ]
    },
    {
      "cell_type": "markdown",
      "metadata": {
        "id": "7kwpwljkI47R"
      },
      "source": [
        "## **Lasso Regression**"
      ]
    },
    {
      "cell_type": "code",
      "metadata": {
        "id": "KCZvzDzLI-hK"
      },
      "source": [
        "from sklearn.linear_model import Lasso\n",
        "\n",
        "LassoReg = Lasso()\n",
        "LassoReg.fit(X_train, y_train)\n",
        "pred = LassoReg.predict(X_test)\n",
        "results_df = append_results(\"Lasso Regression\",  Lasso(), results_df, y_test, pred)"
      ],
      "execution_count": 165,
      "outputs": []
    },
    {
      "cell_type": "code",
      "metadata": {
        "id": "F31_f5VBJGqV",
        "outputId": "29ce94e5-6e36-4d0b-adf9-27e27485a707",
        "colab": {
          "base_uri": "https://localhost:8080/",
          "height": 338
        }
      },
      "source": [
        "plt.scatter(pred[0::100], y_test[0::100],s=5)\n",
        "plt.plot(a,b)\n",
        "plt.xlabel(\"predict price of lasso regression model (unit: 10000 yuan)\")\n",
        "plt.ylabel(\"real price in test data (unit: 10000 yuan)\")\n",
        "plt.savefig('lasso.png')\n",
        "plt.show()"
      ],
      "execution_count": 166,
      "outputs": [
        {
          "output_type": "display_data",
          "data": {
            "image/png": "[encoded data removed]",
            "text/plain": [
              "<Figure size 432x288 with 1 Axes>"
            ]
          },
          "metadata": {
            "tags": []
          }
        }
      ]
    },
    {
      "cell_type": "code",
      "metadata": {
        "id": "vNYPHwHLPD20",
        "outputId": "e090c668-9975-4249-98af-fb9280f10c62",
        "colab": {
          "base_uri": "https://localhost:8080/"
        }
      },
      "source": [
        "print(results_df)"
      ],
      "execution_count": 167,
      "outputs": [
        {
          "output_type": "stream",
          "text": [
            "               Model  Cross Val Score       MAE       MSE      RMSE         R2\n",
            "0  Linear Regression         1.020368  1.902634  1.379360  0.590770 -42.507869\n",
            "1  Robust Regression         1.055942  2.503418  1.582219  0.461549 -56.517146\n",
            "2   Lasso Regression         1.128007  2.351803  1.533559  0.494160 -44.375315\n"
          ],
          "name": "stdout"
        }
      ]
    }
  ]
}